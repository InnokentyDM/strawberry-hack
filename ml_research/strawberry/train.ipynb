{
 "cells": [
  {
   "cell_type": "markdown",
   "id": "looking-latino",
   "metadata": {},
   "source": [
    "## Подготовка\n",
    "\n",
    "Установка библиотек для работы с COCO."
   ]
  },
  {
   "cell_type": "code",
   "execution_count": null,
   "id": "weird-landscape",
   "metadata": {},
   "outputs": [],
   "source": [
    "!pip3 install git+https://github.com/gautamchitnis/cocoapi.git@cocodataset-master#subdirectory=PythonAPI\n",
    "!git clone https://github.com/pytorch/vision.git\n",
    "!cd vision && git checkout v0.8.2\n",
    "\n",
    "!cp vision/references/detection/utils.py ./\n",
    "!cp vision/references/detection/transforms.py ./\n",
    "!cp vision/references/detection/coco_eval.py ./\n",
    "!cp vision/references/detection/engine.py ./\n",
    "!cp vision/references/detection/coco_utils.py ./"
   ]
  },
  {
   "cell_type": "markdown",
   "id": "mounted-welcome",
   "metadata": {},
   "source": [
    "Перед началом обучения надо скачать данные отсюда и распаковать в корень: https://strawdi.github.io"
   ]
  },
  {
   "cell_type": "code",
   "execution_count": null,
   "id": "03c7e4e4",
   "metadata": {
    "scrolled": false
   },
   "outputs": [],
   "source": [
    "import os\n",
    "import numpy as np\n",
    "import torch\n",
    "from PIL import Image\n",
    "from torchvision.transforms import ToTensor\n",
    "\n",
    "\n",
    "# данный код взят с официального примера библиотеки PyTorch \n",
    "# https://pytorch.org/tutorials/intermediate/torchvision_tutorial.html\n",
    "class StrawberryDataset(torch.utils.data.Dataset):\n",
    "    def __init__(self, root, transforms):\n",
    "        self.root = root\n",
    "        self.transforms = transforms\n",
    "        # load all image files, sorting them to\n",
    "        # ensure that they are aligned\n",
    "        self.imgs = list(sorted(os.listdir(os.path.join(root, \"img\"))))\n",
    "        self.masks = list(sorted(os.listdir(os.path.join(root, \"label\"))))\n",
    "        self.to_tensor = ToTensor()\n",
    "\n",
    "    def __getitem__(self, idx):\n",
    "        # load images and masks\n",
    "        img_path = os.path.join(self.root, \"img\", self.imgs[idx])\n",
    "        mask_path = os.path.join(self.root, \"label\", self.masks[idx])\n",
    "        img = Image.open(img_path).convert('RGB')\n",
    "        # note that we haven't converted the mask to RGB,\n",
    "        # because each color corresponds to a different instance\n",
    "        # with 0 being background\n",
    "        mask = Image.open(mask_path)\n",
    "        # convert the PIL Image into a numpy array\n",
    "        img = np.array(img)\n",
    "        mask = np.array(mask)\n",
    "\n",
    "        if self.transforms is not None:\n",
    "            aug_img = None\n",
    "            aug_mask = np.array([0])\n",
    "            while not (aug_mask > 0).sum() > 10:\n",
    "                res = self.transforms(image=img, mask=mask)\n",
    "                aug_img = res['image']\n",
    "                aug_mask = res['mask']\n",
    "            img = aug_img\n",
    "            mask = aug_mask\n",
    "\n",
    "        # instances are encoded as different colors\n",
    "        obj_ids = np.unique(mask)\n",
    "        # first id is the background, so remove it\n",
    "        obj_ids = obj_ids[1:]\n",
    "        \n",
    "        # split the color-encoded mask into a set\n",
    "        # of binary masks\n",
    "        masks = mask == obj_ids[:, None, None]\n",
    "\n",
    "        # get bounding box coordinates for each mask\n",
    "        num_objs = len(obj_ids)\n",
    "        boxes = []\n",
    "        for i in range(num_objs):\n",
    "            pos = np.where(masks[i])\n",
    "            xmin = np.min(pos[1])\n",
    "            xmax = np.max(pos[1])\n",
    "            ymin = np.min(pos[0])\n",
    "            ymax = np.max(pos[0])\n",
    "            if xmin == xmax:\n",
    "                xmax += 1\n",
    "            if ymin == ymax:\n",
    "                ymax += 1\n",
    "            boxes.append([xmin, ymin, xmax, ymax])\n",
    "\n",
    "        # convert everything into a torch.Tensor\n",
    "        boxes = torch.as_tensor(boxes, dtype=torch.float32)\n",
    "        # there is only one class\n",
    "        labels = torch.ones((num_objs,), dtype=torch.int64)\n",
    "        masks = torch.as_tensor(masks, dtype=torch.uint8)\n",
    "\n",
    "        image_id = torch.tensor([idx])\n",
    "        area = (boxes[:, 3] - boxes[:, 1]) * (boxes[:, 2] - boxes[:, 0])\n",
    "        # suppose all instances are not crowd\n",
    "        iscrowd = torch.zeros((num_objs,), dtype=torch.int64)\n",
    "\n",
    "        target = {}\n",
    "        target[\"boxes\"] = boxes\n",
    "        target[\"labels\"] = labels\n",
    "        target[\"masks\"] = masks\n",
    "        target[\"image_id\"] = image_id\n",
    "        target[\"area\"] = area\n",
    "        target[\"iscrowd\"] = iscrowd\n",
    "\n",
    "        img = self.to_tensor(img)\n",
    "        return img, target\n",
    "\n",
    "    def __len__(self):\n",
    "        return len(self.imgs)"
   ]
  },
  {
   "cell_type": "markdown",
   "id": "sunrise-belarus",
   "metadata": {},
   "source": [
    "Для более стабильного обучения делаем аугментацию данных. В стандартном `torchvision.transforms` нет средств для аугментации под задачу сегментации, поэтому воспользуемся библиотекой `albumentations`."
   ]
  },
  {
   "cell_type": "raw",
   "id": "unavailable-african",
   "metadata": {},
   "source": [
    "from engine import train_one_epoch, evaluate\n",
    "import utils\n",
    "import albumentations as A\n",
    "from albumentations.pytorch import ToTensorV2\n",
    "\n",
    "\n",
    "def get_transform(train):\n",
    "    transforms = []\n",
    "    # converts the image, a PIL image, into a PyTorch Tensor\n",
    "    transforms.append(A.Resize(512, 512))\n",
    "    if train:\n",
    "        transforms.append(A.ShiftScaleRotate(shift_limit=0.2, scale_limit=0.2, rotate_limit=30, p=0.5))\n",
    "        transforms.append(A.RGBShift(r_shift_limit=25, g_shift_limit=25, b_shift_limit=25, p=0.5))\n",
    "        transforms.append(A.RandomBrightnessContrast(brightness_limit=0.3, contrast_limit=0.3, p=0.5))\n",
    "    return A.Compose(transforms)"
   ]
  },
  {
   "cell_type": "markdown",
   "id": "english-virginia",
   "metadata": {},
   "source": [
    "### Модель\n",
    "Загружаем модель под fine-tuning:"
   ]
  },
  {
   "cell_type": "code",
   "execution_count": null,
   "id": "132d1260",
   "metadata": {},
   "outputs": [],
   "source": [
    "import torchvision\n",
    "from torchvision.models.detection.faster_rcnn import FastRCNNPredictor\n",
    "from torchvision.models.detection.mask_rcnn import MaskRCNNPredictor\n",
    "\n",
    "\n",
    "def get_instance_segmentation_model(num_classes):\n",
    "    # load an instance segmentation model pre-trained on COCO\n",
    "    model = torchvision.models.detection.maskrcnn_resnet50_fpn(pretrained=True)\n",
    "\n",
    "    # get number of input features for the classifier\n",
    "    in_features = model.roi_heads.box_predictor.cls_score.in_features\n",
    "    # replace the pre-trained head with a new one\n",
    "    model.roi_heads.box_predictor = FastRCNNPredictor(in_features, num_classes)\n",
    "\n",
    "    # now get the number of input features for the mask classifier\n",
    "    in_features_mask = model.roi_heads.mask_predictor.conv5_mask.in_channels\n",
    "    hidden_layer = 256\n",
    "    # and replace the mask predictor with a new one\n",
    "    model.roi_heads.mask_predictor = MaskRCNNPredictor(in_features_mask,\n",
    "                                                       hidden_layer,\n",
    "                                                       num_classes)\n",
    "\n",
    "    return model"
   ]
  },
  {
   "cell_type": "code",
   "execution_count": null,
   "id": "6b2f0dcd",
   "metadata": {},
   "outputs": [],
   "source": [
    "def save_checkpoint(epoch, model, optimizer):\n",
    "    path = f'checkpoints/ep_{epoch:02d}.pt'\n",
    "    torch.save({'epoch': epoch,\n",
    "                'model_state_dict': model.state_dict(),\n",
    "                'optimizer_state_dict': optimizer.state_dict()}, path)"
   ]
  },
  {
   "cell_type": "markdown",
   "id": "infectious-throat",
   "metadata": {},
   "source": [
    "Датасеты обучения и проверки:"
   ]
  },
  {
   "cell_type": "code",
   "execution_count": null,
   "id": "fbc68ea1",
   "metadata": {},
   "outputs": [],
   "source": [
    "# use our dataset and defined transformations\n",
    "dataset = StrawberryDataset('./StrawDI_Db1/train/', get_transform(train=True))\n",
    "dataset_test = StrawberryDataset('./StrawDI_Db1/test/', get_transform(train=False))\n",
    "\n",
    "# split the dataset in train and test set\n",
    "torch.manual_seed(1)\n",
    "\n",
    "# define training and validation data loaders\n",
    "data_loader = torch.utils.data.DataLoader(\n",
    "    dataset, batch_size=8, shuffle=True, num_workers=6,\n",
    "    collate_fn=utils.collate_fn)\n",
    "\n",
    "data_loader_test = torch.utils.data.DataLoader(\n",
    "    dataset_test, batch_size=1, shuffle=False, num_workers=6,\n",
    "    collate_fn=utils.collate_fn)"
   ]
  },
  {
   "cell_type": "markdown",
   "id": "communist-probe",
   "metadata": {},
   "source": [
    "Обучение:"
   ]
  },
  {
   "cell_type": "code",
   "execution_count": null,
   "id": "1dce9daa",
   "metadata": {},
   "outputs": [],
   "source": [
    "device = torch.device('cuda') if torch.cuda.is_available() else torch.device('cpu')\n",
    "device"
   ]
  },
  {
   "cell_type": "code",
   "execution_count": null,
   "id": "f170aaee",
   "metadata": {},
   "outputs": [],
   "source": [
    "# our dataset has two classes only - background and person\n",
    "num_classes = 2\n",
    "\n",
    "# get the model using our helper function\n",
    "model = get_instance_segmentation_model(num_classes)\n",
    "# move model to the right device\n",
    "model.to(device)\n",
    "\n",
    "# construct an optimizer\n",
    "params = [p for p in model.parameters() if p.requires_grad]\n",
    "optimizer = torch.optim.Adam(params, lr=0.0001, weight_decay=0.0005)\n",
    "\n",
    "# and a learning rate scheduler which decreases the learning rate by\n",
    "# 10x every 3 epochs\n",
    "lr_scheduler = torch.optim.lr_scheduler.StepLR(optimizer,\n",
    "                                               step_size=5,\n",
    "                                               gamma=0.1)"
   ]
  },
  {
   "cell_type": "markdown",
   "id": "comparative-southwest",
   "metadata": {},
   "source": [
    "Обучаем 15 эпох:"
   ]
  },
  {
   "cell_type": "code",
   "execution_count": null,
   "id": "0a67190c",
   "metadata": {
    "scrolled": false
   },
   "outputs": [],
   "source": [
    "from tqdm.auto import tqdm\n",
    "\n",
    "\n",
    "num_epochs = 15\n",
    "\n",
    "for epoch in tqdm(range(num_epochs)):\n",
    "    # train for one epoch, printing every 10 iterations\n",
    "    train_one_epoch(model, optimizer, data_loader, device, epoch, print_freq=10)\n",
    "    # update the learning rate\n",
    "    lr_scheduler.step()\n",
    "    # evaluate on the test dataset\n",
    "    evaluate(model, data_loader_test, device=device)\n",
    "    save_checkpoint(epoch, model, optimizer)"
   ]
  },
  {
   "cell_type": "markdown",
   "id": "danish-genome",
   "metadata": {},
   "source": [
    "Сохраняем:"
   ]
  },
  {
   "cell_type": "code",
   "execution_count": null,
   "id": "bff4d271",
   "metadata": {},
   "outputs": [],
   "source": [
    "model_path = f'rcnn_final.pt'\n",
    "torch.save(model.cpu().state_dict(), model_path)"
   ]
  },
  {
   "cell_type": "code",
   "execution_count": null,
   "id": "b41bc34d",
   "metadata": {},
   "outputs": [],
   "source": []
  }
 ],
 "metadata": {
  "kernelspec": {
   "display_name": "Python 3",
   "language": "python",
   "name": "python3"
  },
  "language_info": {
   "codemirror_mode": {
    "name": "ipython",
    "version": 3
   },
   "file_extension": ".py",
   "mimetype": "text/x-python",
   "name": "python",
   "nbconvert_exporter": "python",
   "pygments_lexer": "ipython3",
   "version": "3.9.4"
  }
 },
 "nbformat": 4,
 "nbformat_minor": 5
}
